{
 "cells": [
  {
   "cell_type": "code",
   "execution_count": 2,
   "id": "35762681",
   "metadata": {},
   "outputs": [],
   "source": [
    "a = [10,20,30,40]\n",
    "b = [22,23,24,25]"
   ]
  },
  {
   "cell_type": "code",
   "execution_count": 6,
   "id": "8a1462f5",
   "metadata": {},
   "outputs": [
    {
     "name": "stdout",
     "output_type": "stream",
     "text": [
      "[32, 43, 54, 65]\n"
     ]
    }
   ],
   "source": [
    "sonuc = []\n",
    "\n",
    "for i in range(len(a)):\n",
    "    toplam = a[i] + b[i]\n",
    "    sonuc.append(toplam)\n",
    "print(sonuc)"
   ]
  },
  {
   "cell_type": "code",
   "execution_count": 7,
   "id": "a57450c4",
   "metadata": {},
   "outputs": [
    {
     "name": "stdout",
     "output_type": "stream",
     "text": [
      "0\n",
      "5\n",
      "10\n"
     ]
    }
   ],
   "source": [
    "for u in range(0, 15,5):\n",
    "    print(u) #range ile 0'dan 15'e (15 dahil değil) kadar 5'er 5'er artan bir alan yaratıyorum. for ile u yu döndürerek 0,5,10\n",
    "             #yazdırıyorum"
   ]
  },
  {
   "cell_type": "code",
   "execution_count": 8,
   "id": "9a36aa8e",
   "metadata": {},
   "outputs": [
    {
     "name": "stdout",
     "output_type": "stream",
     "text": [
      "[100, 100]\n",
      "[100, 105, 100]\n",
      "[100, 110, 105, 100]\n",
      "[100, 115, 110, 105, 100]\n",
      "[100, 120, 115, 110, 105, 100]\n",
      "[100, 125, 120, 115, 110, 105, 100]\n",
      "[100, 130, 125, 120, 115, 110, 105, 100]\n",
      "[100, 135, 130, 125, 120, 115, 110, 105, 100]\n",
      "[100, 140, 135, 130, 125, 120, 115, 110, 105, 100]\n",
      "[100, 145, 140, 135, 130, 125, 120, 115, 110, 105, 100]\n",
      "[100, 150, 145, 140, 135, 130, 125, 120, 115, 110, 105, 100]\n",
      "[100, 155, 150, 145, 140, 135, 130, 125, 120, 115, 110, 105, 100]\n",
      "[100, 160, 155, 150, 145, 140, 135, 130, 125, 120, 115, 110, 105, 100]\n",
      "[100, 165, 160, 155, 150, 145, 140, 135, 130, 125, 120, 115, 110, 105, 100]\n",
      "[100, 170, 165, 160, 155, 150, 145, 140, 135, 130, 125, 120, 115, 110, 105, 100]\n",
      "[100, 175, 170, 165, 160, 155, 150, 145, 140, 135, 130, 125, 120, 115, 110, 105, 100]\n",
      "[100, 180, 175, 170, 165, 160, 155, 150, 145, 140, 135, 130, 125, 120, 115, 110, 105, 100]\n",
      "[100, 185, 180, 175, 170, 165, 160, 155, 150, 145, 140, 135, 130, 125, 120, 115, 110, 105, 100]\n",
      "[100, 190, 185, 180, 175, 170, 165, 160, 155, 150, 145, 140, 135, 130, 125, 120, 115, 110, 105, 100]\n",
      "[100, 195, 190, 185, 180, 175, 170, 165, 160, 155, 150, 145, 140, 135, 130, 125, 120, 115, 110, 105, 100]\n"
     ]
    }
   ],
   "source": [
    "listem = [100]\n",
    "    #içinde 100 bulunan bir listem var. Açtığım for döngüsünün range'i 0'dan 100'e kadar ,5'er 5'er artıyor.\n",
    "    #döngü her döndüğünde listenin 1. elemanına yani bize göre 2. indeks'e listenin 0. indeksinde'ki ile o anki u'nun değerini\n",
    "    #toplayarak koyuyor. İlk döngüde u sıfır ve listenin 0. elemanı 100 olduğu için 100+0 100 yazdırıyor.\n",
    "    #bu şekil de range bitesiye kadar hep listenin 1. elemanına 100 + u'nun o anki değerini yazdırmaya devam ediyor.\n",
    "for u in range(0, 100,5):\n",
    "    listem.insert(1,listem[0]+u)\n",
    "    print(listem)"
   ]
  },
  {
   "cell_type": "code",
   "execution_count": 10,
   "id": "0ffcc207",
   "metadata": {},
   "outputs": [
    {
     "name": "stdout",
     "output_type": "stream",
     "text": [
      "M\n",
      "I\n",
      "U\n",
      "U\n",
      "L\n"
     ]
    }
   ],
   "source": [
    "def kendifonksiyonum(listem):\n",
    "    for m in listem:\n",
    "        print(m.upper())\n",
    "\n",
    "kendifonksiyonum(\"miuul\") #Satır satır Büyük harf miuul yazan döngüyü fonksiyona çevirerek dinamik bir hal aldırdık."
   ]
  },
  {
   "cell_type": "code",
   "execution_count": 13,
   "id": "a4d3bc08",
   "metadata": {},
   "outputs": [
    {
     "name": "stdout",
     "output_type": "stream",
     "text": [
      "7\n"
     ]
    }
   ],
   "source": [
    "def halil():\n",
    "    a=3\n",
    "    b=4\n",
    "    print(a+b) #a + b toplamını verir yani 7\n",
    "halil()"
   ]
  },
  {
   "cell_type": "code",
   "execution_count": 22,
   "id": "754e3edb",
   "metadata": {},
   "outputs": [
    {
     "name": "stdout",
     "output_type": "stream",
     "text": [
      "1\n",
      "4\n",
      "9\n",
      "16\n",
      "25\n",
      "36\n",
      "49\n",
      "64\n",
      "81\n",
      "100\n"
     ]
    }
   ],
   "source": [
    "def for_ogreniyorum(a,b,c):\n",
    "    x = range(a,b,c)\n",
    "    for n in x:       #Range'de her eklenen sayıyı kendisiyle çarpan bir for döngüsü b'ye ne verirseniz c'de oraya kadar artar.\n",
    "        print(n*n)\n",
    "for_ogreniyorum(1,11,1)"
   ]
  },
  {
   "cell_type": "code",
   "execution_count": 19,
   "id": "b20b4a02",
   "metadata": {},
   "outputs": [],
   "source": [
    "a = [10,20]\n",
    "b = [22,23] # a ve b olarak iki liste oluşturdum."
   ]
  },
  {
   "cell_type": "code",
   "execution_count": 1,
   "id": "c7de38b7",
   "metadata": {},
   "outputs": [
    {
     "name": "stdout",
     "output_type": "stream",
     "text": [
      "0\n",
      "2\n",
      "4\n",
      "6\n",
      "8\n"
     ]
    }
   ],
   "source": [
    "x = range(0, 10,2)\n",
    "\n",
    "for n in x:\n",
    "  print(n) #0'dan başlayarak 2'şer artan 10'a kadar (10 dahil değil) sayıları yazdırır."
   ]
  },
  {
   "cell_type": "code",
   "execution_count": 2,
   "id": "e260949c",
   "metadata": {},
   "outputs": [],
   "source": [
    "import numpy as np\n",
    "import pandas as pd\n",
    "import seaborn as sns"
   ]
  },
  {
   "cell_type": "code",
   "execution_count": 3,
   "id": "e1325682",
   "metadata": {},
   "outputs": [],
   "source": [
    "df = sns.load_dataset(\"titanic\")"
   ]
  },
  {
   "cell_type": "code",
   "execution_count": 5,
   "id": "86655c06",
   "metadata": {},
   "outputs": [
    {
     "data": {
      "text/html": [
       "<div>\n",
       "<style scoped>\n",
       "    .dataframe tbody tr th:only-of-type {\n",
       "        vertical-align: middle;\n",
       "    }\n",
       "\n",
       "    .dataframe tbody tr th {\n",
       "        vertical-align: top;\n",
       "    }\n",
       "\n",
       "    .dataframe thead th {\n",
       "        text-align: right;\n",
       "    }\n",
       "</style>\n",
       "<table border=\"1\" class=\"dataframe\">\n",
       "  <thead>\n",
       "    <tr style=\"text-align: right;\">\n",
       "      <th></th>\n",
       "      <th>survived</th>\n",
       "      <th>pclass</th>\n",
       "      <th>sex</th>\n",
       "      <th>age</th>\n",
       "      <th>sibsp</th>\n",
       "      <th>parch</th>\n",
       "      <th>fare</th>\n",
       "      <th>embarked</th>\n",
       "      <th>class</th>\n",
       "      <th>who</th>\n",
       "      <th>adult_male</th>\n",
       "      <th>deck</th>\n",
       "      <th>embark_town</th>\n",
       "      <th>alive</th>\n",
       "      <th>alone</th>\n",
       "    </tr>\n",
       "  </thead>\n",
       "  <tbody>\n",
       "    <tr>\n",
       "      <th>0</th>\n",
       "      <td>0</td>\n",
       "      <td>3</td>\n",
       "      <td>male</td>\n",
       "      <td>22.0</td>\n",
       "      <td>1</td>\n",
       "      <td>0</td>\n",
       "      <td>7.2500</td>\n",
       "      <td>S</td>\n",
       "      <td>Third</td>\n",
       "      <td>man</td>\n",
       "      <td>True</td>\n",
       "      <td>NaN</td>\n",
       "      <td>Southampton</td>\n",
       "      <td>no</td>\n",
       "      <td>False</td>\n",
       "    </tr>\n",
       "    <tr>\n",
       "      <th>1</th>\n",
       "      <td>1</td>\n",
       "      <td>1</td>\n",
       "      <td>female</td>\n",
       "      <td>38.0</td>\n",
       "      <td>1</td>\n",
       "      <td>0</td>\n",
       "      <td>71.2833</td>\n",
       "      <td>C</td>\n",
       "      <td>First</td>\n",
       "      <td>woman</td>\n",
       "      <td>False</td>\n",
       "      <td>C</td>\n",
       "      <td>Cherbourg</td>\n",
       "      <td>yes</td>\n",
       "      <td>False</td>\n",
       "    </tr>\n",
       "    <tr>\n",
       "      <th>2</th>\n",
       "      <td>1</td>\n",
       "      <td>3</td>\n",
       "      <td>female</td>\n",
       "      <td>26.0</td>\n",
       "      <td>0</td>\n",
       "      <td>0</td>\n",
       "      <td>7.9250</td>\n",
       "      <td>S</td>\n",
       "      <td>Third</td>\n",
       "      <td>woman</td>\n",
       "      <td>False</td>\n",
       "      <td>NaN</td>\n",
       "      <td>Southampton</td>\n",
       "      <td>yes</td>\n",
       "      <td>True</td>\n",
       "    </tr>\n",
       "    <tr>\n",
       "      <th>3</th>\n",
       "      <td>1</td>\n",
       "      <td>1</td>\n",
       "      <td>female</td>\n",
       "      <td>35.0</td>\n",
       "      <td>1</td>\n",
       "      <td>0</td>\n",
       "      <td>53.1000</td>\n",
       "      <td>S</td>\n",
       "      <td>First</td>\n",
       "      <td>woman</td>\n",
       "      <td>False</td>\n",
       "      <td>C</td>\n",
       "      <td>Southampton</td>\n",
       "      <td>yes</td>\n",
       "      <td>False</td>\n",
       "    </tr>\n",
       "    <tr>\n",
       "      <th>4</th>\n",
       "      <td>0</td>\n",
       "      <td>3</td>\n",
       "      <td>male</td>\n",
       "      <td>35.0</td>\n",
       "      <td>0</td>\n",
       "      <td>0</td>\n",
       "      <td>8.0500</td>\n",
       "      <td>S</td>\n",
       "      <td>Third</td>\n",
       "      <td>man</td>\n",
       "      <td>True</td>\n",
       "      <td>NaN</td>\n",
       "      <td>Southampton</td>\n",
       "      <td>no</td>\n",
       "      <td>True</td>\n",
       "    </tr>\n",
       "  </tbody>\n",
       "</table>\n",
       "</div>"
      ],
      "text/plain": [
       "   survived  pclass     sex   age  sibsp  parch     fare embarked  class  \\\n",
       "0         0       3    male  22.0      1      0   7.2500        S  Third   \n",
       "1         1       1  female  38.0      1      0  71.2833        C  First   \n",
       "2         1       3  female  26.0      0      0   7.9250        S  Third   \n",
       "3         1       1  female  35.0      1      0  53.1000        S  First   \n",
       "4         0       3    male  35.0      0      0   8.0500        S  Third   \n",
       "\n",
       "     who  adult_male deck  embark_town alive  alone  \n",
       "0    man        True  NaN  Southampton    no  False  \n",
       "1  woman       False    C    Cherbourg   yes  False  \n",
       "2  woman       False  NaN  Southampton   yes   True  \n",
       "3  woman       False    C  Southampton   yes  False  \n",
       "4    man        True  NaN  Southampton    no   True  "
      ]
     },
     "execution_count": 5,
     "metadata": {},
     "output_type": "execute_result"
    }
   ],
   "source": [
    "df.head()"
   ]
  },
  {
   "cell_type": "code",
   "execution_count": 10,
   "id": "b555cf8a",
   "metadata": {},
   "outputs": [
    {
     "data": {
      "text/plain": [
       "30.197714285714287"
      ]
     },
     "execution_count": 10,
     "metadata": {},
     "output_type": "execute_result"
    }
   ],
   "source": [
    "df[(df[\"sex\"] == \"male\") & (df[\"alive\"] == \"yes\") & (df[\"fare\"] > 30)][\"age\"].mean()"
   ]
  },
  {
   "cell_type": "code",
   "execution_count": 16,
   "id": "3a1d0005",
   "metadata": {},
   "outputs": [
    {
     "data": {
      "text/plain": [
       "16.61703432974628"
      ]
     },
     "execution_count": 16,
     "metadata": {},
     "output_type": "execute_result"
    }
   ],
   "source": [
    "df[(df[\"sex\"] == \"male\") & (df[\"alive\"] == \"yes\") & (df[\"fare\"] > 30)][\"age\"].std()"
   ]
  }
 ],
 "metadata": {
  "kernelspec": {
   "display_name": "Python 3 (ipykernel)",
   "language": "python",
   "name": "python3"
  },
  "language_info": {
   "codemirror_mode": {
    "name": "ipython",
    "version": 3
   },
   "file_extension": ".py",
   "mimetype": "text/x-python",
   "name": "python",
   "nbconvert_exporter": "python",
   "pygments_lexer": "ipython3",
   "version": "3.11.5"
  }
 },
 "nbformat": 4,
 "nbformat_minor": 5
}
